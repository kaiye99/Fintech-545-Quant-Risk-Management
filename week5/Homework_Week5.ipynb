{
  "nbformat": 4,
  "nbformat_minor": 0,
  "metadata": {
    "colab": {
      "provenance": [],
      "toc_visible": true
    },
    "kernelspec": {
      "name": "python3",
      "display_name": "Python 3"
    },
    "language_info": {
      "name": "python"
    }
  },
  "cells": [
    {
      "cell_type": "markdown",
      "source": [
        "# Refactor"
      ],
      "metadata": {
        "id": "w3ALM49d1XQX"
      }
    },
    {
      "cell_type": "code",
      "source": [
        "import numpy as np\n",
        "import pandas as pd\n",
        "import seaborn as sns\n",
        "import matplotlib.pyplot as plt\n",
        "import statsmodels.api as sm\n",
        "from scipy.stats import norm,kstest,shapiro,t\n",
        "import pylab\n",
        "import scipy\n",
        "import time\n",
        "import warnings\n",
        "import seaborn as sns"
      ],
      "metadata": {
        "id": "laM3HES81cuS"
      },
      "execution_count": 1,
      "outputs": []
    },
    {
      "cell_type": "code",
      "source": [
        "data = pd.read_csv(\"problem1.csv\")"
      ],
      "metadata": {
        "id": "TiVNdxF-U2v_"
      },
      "execution_count": 2,
      "outputs": []
    },
    {
      "cell_type": "code",
      "source": [
        "#matrix generated\n",
        "def generate_pd_matrix(n):\n",
        "  corr = np.full((n,n),0.9)\n",
        "  np.fill_diagonal(corr, 1) \n",
        "  return corr\n",
        "\n",
        "def generate_psd_matrix(n):\n",
        "  corr = generate_pd_matrix(n)\n",
        "  corr[0,1] = 1.0\n",
        "  corr[1,0] = 1.0 \n",
        "  return corr\n",
        "\n",
        "def generate_nonpsd_matrix(n):\n",
        "  corr = generate_pd_matrix(n)\n",
        "  corr[0,1] = 0.7357\n",
        "  corr[1,0] = 0.7357 \n",
        "  return corr"
      ],
      "metadata": {
        "id": "fI6KAwErV_tx"
      },
      "execution_count": 3,
      "outputs": []
    },
    {
      "cell_type": "code",
      "source": [
        "#cov and weighted cov\n",
        "def weighted_pair(x, y, weight):\n",
        "  n = len(weight)\n",
        "  mean_x = np.mean(x)\n",
        "  mean_y = np.mean(y)\n",
        "  cov = 0\n",
        "  for i in range(n):\n",
        "    cov += weight[n - 1 - i]*(x[i] - mean_x) * (y[i] - mean_y)\n",
        "  return cov\n",
        "\n",
        "def calculate_weight(lamb, df):\n",
        "  df = pd.DataFrame(df)\n",
        "  X = df.index.values\n",
        "  weight = [(1-lamb)*lamb**(i-1) for i in X]\n",
        "  weight_adjust = [weight[i]/sum(weight) for i in X]\n",
        "  return weight_adjust\n",
        "\n",
        "def cal_weighted_cov_mat(df, weights):\n",
        "  df1 = np.matrix(df).T\n",
        "  dev = df1 - df1.mean(axis=1)\n",
        "  #weights = weights[lambda_index]\n",
        "  cov = dev @ np.diag(weights) @ dev.T\n",
        "  return cov"
      ],
      "metadata": {
        "id": "kYGEszDcIMVM"
      },
      "execution_count": 4,
      "outputs": []
    },
    {
      "cell_type": "code",
      "source": [
        "A = generate_pd_matrix(10)\n",
        "adjusted_weights = calculate_weight(0.9, A)\n",
        "cov_matrix = cal_weighted_cov_mat(A, adjusted_weights)\n",
        "cov_matrix"
      ],
      "metadata": {
        "colab": {
          "base_uri": "https://localhost:8080/"
        },
        "id": "TWgGNds1Vnq5",
        "outputId": "c81f6131-1062-4e76-f748-d5fb820bd423"
      },
      "execution_count": 5,
      "outputs": [
        {
          "output_type": "execute_result",
          "data": {
            "text/plain": [
              "matrix([[ 1.32827195e-03, -1.91714587e-04, -1.77896528e-04,\n",
              "         -1.65460274e-04, -1.54267646e-04, -1.44194281e-04,\n",
              "         -1.35128252e-04, -1.26968826e-04, -1.19625343e-04,\n",
              "         -1.13016208e-04],\n",
              "        [-1.91714587e-04,  1.20544475e-03, -1.62543129e-04,\n",
              "         -1.50106875e-04, -1.38914247e-04, -1.28840882e-04,\n",
              "         -1.19774853e-04, -1.11615427e-04, -1.04271944e-04,\n",
              "         -9.76628087e-05],\n",
              "        [-1.77896528e-04, -1.62543129e-04,  1.09490028e-03,\n",
              "         -1.36288816e-04, -1.25096188e-04, -1.15022822e-04,\n",
              "         -1.05956793e-04, -9.77973676e-05, -9.04538843e-05,\n",
              "         -8.38447493e-05],\n",
              "        [-1.65460274e-04, -1.50106875e-04, -1.36288816e-04,\n",
              "          9.95410249e-04, -1.12659934e-04, -1.02586569e-04,\n",
              "         -9.35205400e-05, -8.53611141e-05, -7.80176308e-05,\n",
              "         -7.14084959e-05],\n",
              "        [-1.54267646e-04, -1.38914247e-04, -1.25096188e-04,\n",
              "         -1.12659934e-04,  9.05869224e-04, -9.13939407e-05,\n",
              "         -8.23279119e-05, -7.41684860e-05, -6.68250027e-05,\n",
              "         -6.02158677e-05],\n",
              "        [-1.44194281e-04, -1.28840882e-04, -1.15022822e-04,\n",
              "         -1.02586569e-04, -9.13939407e-05,  8.25282302e-04,\n",
              "         -7.22545466e-05, -6.40951207e-05, -5.67516374e-05,\n",
              "         -5.01425024e-05],\n",
              "        [-1.35128252e-04, -1.19774853e-04, -1.05956793e-04,\n",
              "         -9.35205400e-05, -8.23279119e-05, -7.22545466e-05,\n",
              "          7.52754071e-04, -5.50290920e-05, -4.76856086e-05,\n",
              "         -4.10764737e-05],\n",
              "        [-1.26968826e-04, -1.11615427e-04, -9.77973676e-05,\n",
              "         -8.53611141e-05, -7.41684860e-05, -6.40951207e-05,\n",
              "         -5.50290920e-05,  6.87478664e-04, -3.95261828e-05,\n",
              "         -3.29170478e-05],\n",
              "        [-1.19625343e-04, -1.04271944e-04, -9.04538843e-05,\n",
              "         -7.80176308e-05, -6.68250027e-05, -5.67516374e-05,\n",
              "         -4.76856086e-05, -3.95261828e-05,  6.28730798e-04,\n",
              "         -2.55735645e-05],\n",
              "        [-1.13016208e-04, -9.76628087e-05, -8.38447493e-05,\n",
              "         -7.14084959e-05, -6.02158677e-05, -5.01425024e-05,\n",
              "         -4.10764737e-05, -3.29170478e-05, -2.55735645e-05,\n",
              "          5.75857718e-04]])"
            ]
          },
          "metadata": {},
          "execution_count": 5
        }
      ]
    },
    {
      "cell_type": "code",
      "source": [
        "#psd fixed\n",
        "def chol_psd(sigma):\n",
        "  L = np.full(sigma.shape, 0.0, dtype='float64')\n",
        "  n = L.shape[1]\n",
        "  for j in range(n):\n",
        "    diag_val = sigma[j,j] - L[j,:j] @ L[j,:j].T\n",
        "    if -1e-8 <= diag_val <= 0:\n",
        "      diag_val = 0.0\n",
        "    elif diag_val < -1e-8:\n",
        "      raise ValueError(\"The matrix is not positive semi-definite!\")\n",
        "    L[j,j] = np.sqrt(diag_val)\n",
        "    if L[j,j] == 0:\n",
        "      continue\n",
        "    for i in range(j+1, n):\n",
        "      L[i, j] = (sigma[i,j] - L[i,:j] @ L[j,:j].T) / L[j, j] \n",
        "  return np.matrix(L)\n",
        "\n",
        "def near_psd(A):\n",
        "  eigen_val, eigen_vec = np.linalg.eigh(A)\n",
        "  eigen_val[eigen_val < 0] = 0.0\n",
        "  t = 1 / (np.dot(eigen_vec**2, eigen_val))\n",
        "    \n",
        "  sqrt_scaling_matrix = np.diagflat(np.sqrt(t))\n",
        "  sqrt_eigen_val_matrix = np.diagflat(np.sqrt(eigen_val))\n",
        "\n",
        "  temp = np.dot(sqrt_scaling_matrix, eigen_vec)\n",
        "  B = np.dot(temp, sqrt_eigen_val_matrix)\n",
        "  C = np.dot(B, B.T)\n",
        "  return C\n",
        "\n",
        "def cal_Frobenius_norm(A):\n",
        "  n = len(A)\n",
        "  norm = 0\n",
        "  for i in range(n):\n",
        "    for j in range(n):\n",
        "      norm += A[i][j]**2\n",
        "  return norm\n",
        "\n",
        "def cal_projection_u(A):\n",
        "  proj_u = A.copy()\n",
        "  np.fill_diagonal(proj_u,1)\n",
        "  return proj_u\n",
        "\n",
        "def cal_projection_s(A):\n",
        "  eigen_val, eigen_vec = np.linalg.eigh(A)\n",
        "  eigen_val[eigen_val<0] = 0\n",
        "  eigen_matrix = np.diagflat(eigen_val)\n",
        "  temp = np.dot(eigen_vec, eigen_matrix)\n",
        "  proj_s = np.dot(temp, eigen_vec.T)\n",
        "  return proj_s\n",
        "\n",
        "def Higham_near_psd(A):\n",
        "  S = 0\n",
        "  Y = A\n",
        "  gamma_lag = 1.7976931348623157e+308\n",
        "  iteration = 10000\n",
        "  tolerance = 1e-10\n",
        "  for i in range(iteration):\n",
        "    R = Y - S\n",
        "    X = cal_projection_s(R)\n",
        "    S = X - R\n",
        "    Y = cal_projection_u(X) \n",
        "    gamma = cal_Frobenius_norm(Y - A)\n",
        "    if abs(gamma - gamma_lag)< tolerance:\n",
        "      break\n",
        "    gamma_lag = gamma\n",
        "  return Y\n",
        "\n",
        "def check_psd_matrix(A):\n",
        "  eigen_val, eigen_vec = np.linalg.eigh(A)\n",
        "  for i in range(0, len(eigen_val)):\n",
        "    if eigen_val[i] < -1e-8:\n",
        "      print(\"The matrix is non-PSD!\")\n",
        "      break\n",
        "  print(\"The matrix is PSD!\")\n",
        "  return"
      ],
      "metadata": {
        "id": "eqA6KBP3JgpZ"
      },
      "execution_count": 6,
      "outputs": []
    },
    {
      "cell_type": "code",
      "source": [
        "A = generate_nonpsd_matrix(5)\n",
        "B = near_psd(A)\n",
        "check_psd_matrix(B)"
      ],
      "metadata": {
        "colab": {
          "base_uri": "https://localhost:8080/"
        },
        "id": "6oovzJR-j0uG",
        "outputId": "a1e457ea-4b09-45f0-908c-8a3ac7e80744"
      },
      "execution_count": 7,
      "outputs": [
        {
          "output_type": "stream",
          "name": "stdout",
          "text": [
            "The matrix is PSD!\n"
          ]
        }
      ]
    },
    {
      "cell_type": "code",
      "source": [
        "#simulation method\n",
        "from scipy.stats import norm, t,spearmanr\n",
        "import scipy.optimize as optimize\n",
        "def simulate_path(method, start_price, sigma, sample_size):\n",
        "  return0 = scipy.stats.norm(0, sigma).rvs(sample_size)\n",
        "  price_arr = []\n",
        "  if method == \"Classical\":\n",
        "    for i in range(0, sample_size):\n",
        "      price = start_price + return0[i]\n",
        "      price_arr.append(price)\n",
        "  elif method == \"Arithemetic\":\n",
        "    for i in range(0, sample_size):\n",
        "      price = start_price * (1 + return0[i])\n",
        "      price_arr.append(price)\n",
        "  elif method == \"Geometric\":\n",
        "    for i in range(0, sample_size):\n",
        "      price = start_price * np.exp(return0[i])\n",
        "      price_arr.append(np.log(price))\n",
        "  else:\n",
        "    print(\"Wrong method!\")\n",
        "  return price_arr\n",
        "\n",
        "def Return_norm_simulation(array, size):\n",
        "  mu = array.mean()\n",
        "  sig = array.std()\n",
        "  simu_norm = norm.rvs(loc= mu,scale = sig,size = size)\n",
        "  return simu_norm\n",
        "\n",
        "def Return_T_params(array):\n",
        "  def t_log_lik(par_vec, x):\n",
        "    lik = -np.log(t(df=par_vec[0], loc=par_vec[1], scale=par_vec[2]).pdf(x)).sum()\n",
        "    return lik\n",
        "  cons = ({'type': 'ineq', 'fun': lambda x: x[0] - 2},{'type': 'ineq', 'fun': lambda x: x[2]})\n",
        "  df, mean, scale = optimize.minimize(fun=t_log_lik,x0=[2, np.array(array).mean(), np.array(array).std()],constraints=cons,args=(np.array(array))).x\n",
        "  return df, mean, scale\n",
        "\n",
        "def copula_t_simulation(ret, nOfDarws):\n",
        "  n = ret.shape[1]\n",
        "  stock_cdf = pd.DataFrame()\n",
        "  t_params = []\n",
        "\n",
        "  for col in ret.columns:\n",
        "    ret[col] -= ret[col].mean()\n",
        "    df, mean, scale = Return_T_params(ret[col])\n",
        "    t_params.append([df, mean, scale])\n",
        "    stock_cdf[col] = t.cdf(ret[col], df=df, loc=mean, scale=scale)\n",
        "\n",
        "  Corr_spearman = spearmanr(stock_cdf)[0]\n",
        "  cholesky = chol_psd(Corr_spearman)\n",
        "  simuNormal = pd.DataFrame(norm.rvs(size=(n, nOfDarws)))\n",
        "  simulatedT = (cholesky @ simuNormal).T\n",
        "  Simu_data = pd.DataFrame()\n",
        "  for i in range(n):\n",
        "    simu = norm.cdf(simulatedT.iloc[:, i])\n",
        "    Simu_data[ret.columns[i]] = t.ppf(simu, df=t_params[i][0], loc=t_params[i][1], scale=t_params[i][2])\n",
        "\n",
        "  return Simu_data"
      ],
      "metadata": {
        "id": "qG0fjxAQNTN0"
      },
      "execution_count": 8,
      "outputs": []
    },
    {
      "cell_type": "code",
      "source": [
        "simulate_path(\"Geometric\", 100, 0.1, 10000)"
      ],
      "metadata": {
        "id": "yyfQjIwfkbz1"
      },
      "execution_count": null,
      "outputs": []
    },
    {
      "cell_type": "code",
      "source": [
        "#VaR Calculation\n",
        "from scipy.stats import norm,t\n",
        "\n",
        "def simulate_normal(df, alpha, sample_size):\n",
        "  sigma = df.std()\n",
        "  normal = np.random.normal(0,sigma,size=sample_size)\n",
        "  VaR = -np.percentile(normal, alpha)\n",
        "  print(f\"Normal distribution VaR: {round(VaR*100,2)}%\")\n",
        "  return VaR, normal\n",
        "\n",
        "def simulate_EW(df, lambda0, alpha, sample_size):\n",
        "  temp = df.reset_index()\n",
        "  adj_weights = calculate_weight(lambda0, temp)\n",
        "  sigma = np.sqrt(weighted_pair(df.values, df.values, adj_weights))\n",
        "  Weighted_normal = np.random.normal(0, sigma, 10000)\n",
        "  VaR = -np.percentile(Weighted_normal,5)\n",
        "  print(f\"Exponentially Weighted Normal VaR: {round(VaR*100,2)}%\")\n",
        "  return VaR, Weighted_normal\n",
        "\n",
        "def MLE_t(array):\n",
        "  def t_log_lik(par_vec, x):\n",
        "    lik = -np.log(t(df = par_vec[0],loc=par_vec[1],scale = par_vec[2]).pdf(x)).sum()\n",
        "    return lik\n",
        "  cons = ({'type': 'ineq', 'fun': lambda x: x[0] - 2},{'type': 'ineq', 'fun': lambda x: x[2]})\n",
        "  df, mean, scale = optimize.minimize(fun=t_log_lik, x0=[2, np.array(array).mean(), np.array(array).std()], constraints=cons, args=(np.array(array))).x\n",
        "  return df, mean, scale\n",
        "\n",
        "def simulate_MLE_t(df, alpha, sample_size):\n",
        "  t_params = MLE_t(df)\n",
        "  simulation_t =  t.rvs(df = t_params[0], loc = t_params[1], scale = t_params[2], size = sample_size)\n",
        "  VaR = -np.percentile(simulation_t,alpha)\n",
        "  print(f\"T distribution VaR: {round(VaR*100,2)}%\")\n",
        "  return VaR, simulation_t\n",
        "\n",
        "def simulate_history(df, alpha):\n",
        "  VaR = -np.percentile(df,5)\n",
        "  print(f\"Historic Simulation VaR: {round(VaR*100,2)}%\")\n",
        "  return VaR\n"
      ],
      "metadata": {
        "id": "6edy6HCLYk2Z"
      },
      "execution_count": 29,
      "outputs": []
    },
    {
      "cell_type": "code",
      "source": [
        "def show_simulation_results1(df, lambda0, alpha, sample_size):\n",
        "  Normal_VaR, Normal_set = simulate_normal(df, alpha, sample_size)\n",
        "  Weighted_Normal_VaR, Weighted_set = simulate_EW(df, lambda0, alpha, sample_size)\n",
        "  MLE_t_VaR, t_set = simulate_MLE_t(df, alpha, sample_size)\n",
        "  History_VaR = simulate_history(df, alpha)\n",
        "  return\n",
        "\n",
        "show_simulation_results1(data, 0.94, 5, 10000)"
      ],
      "metadata": {
        "colab": {
          "base_uri": "https://localhost:8080/"
        },
        "id": "twoIsdnin65r",
        "outputId": "6d54d068-a05a-4f63-9d3e-7c2767c66915"
      },
      "execution_count": 38,
      "outputs": [
        {
          "output_type": "stream",
          "name": "stdout",
          "text": [
            "Normal distribution VaR: 8.03%\n",
            "Exponentially Weighted Normal VaR: 8.75%\n",
            "T distribution VaR: 7.83%\n",
            "Historic Simulation VaR: 7.6%\n"
          ]
        }
      ]
    },
    {
      "cell_type": "code",
      "source": [
        "#ES Calculation\n",
        "def ES(ret_arr, alpha):\n",
        "  VaR_t = -np.percentile(ret_arr, alpha*100)\n",
        "  return_before_alpha = ret_arr[ret_arr < -VaR_t]\n",
        "  ES = return_before_alpha.mean()\n",
        "  print(f\"Expected Shortfall: {round(-ES*100,2)}%\")\n",
        "  return -ES"
      ],
      "metadata": {
        "id": "e6bgeQ3LPYZ-"
      },
      "execution_count": 66,
      "outputs": []
    },
    {
      "cell_type": "code",
      "source": [
        "#test in the below cell"
      ],
      "metadata": {
        "colab": {
          "base_uri": "https://localhost:8080/"
        },
        "id": "f62r1RjzsywZ",
        "outputId": "095d51d6-f576-4789-e0f6-78b30ab350df"
      },
      "execution_count": 15,
      "outputs": [
        {
          "output_type": "stream",
          "name": "stdout",
          "text": [
            "Expected Shortfall: 11.68%\n"
          ]
        }
      ]
    },
    {
      "cell_type": "markdown",
      "source": [
        "# Question1"
      ],
      "metadata": {
        "id": "lJpq2AK51DjH"
      }
    },
    {
      "cell_type": "code",
      "source": [
        "normal_results = simulate_normal(data, 5, 10000)\n",
        "normal = Return_norm_simulation(data, 10000)\n",
        "normal_es = ES(normal, 0.05)"
      ],
      "metadata": {
        "colab": {
          "base_uri": "https://localhost:8080/"
        },
        "id": "dXCnjDscmRW0",
        "outputId": "874c2428-cde9-4afe-c387-6272ff73cdee"
      },
      "execution_count": 67,
      "outputs": [
        {
          "output_type": "stream",
          "name": "stdout",
          "text": [
            "Normal distribution VaR: 8.12%\n",
            "Expected Shortfall: 10.2%\n"
          ]
        }
      ]
    },
    {
      "cell_type": "code",
      "execution_count": 68,
      "metadata": {
        "colab": {
          "base_uri": "https://localhost:8080/"
        },
        "id": "JgUgrLWCzsjD",
        "outputId": "9328f040-d89e-472a-d99d-eac664fadeaf"
      },
      "outputs": [
        {
          "output_type": "stream",
          "name": "stdout",
          "text": [
            "T distribution VaR: 7.52%\n",
            "Expected Shortfall: 11.22%\n"
          ]
        }
      ],
      "source": [
        "t_results = simulate_MLE_t(data, 5, 10000)\n",
        "t_es = ES(t_results[1], 0.05)"
      ]
    },
    {
      "cell_type": "code",
      "source": [
        "def show_es_results(data, normal_results, normal_es, t_results, t_es):\n",
        "  fig, axes = plt.subplots(figsize=(18,5))\n",
        "  axes.axvline(x = -normal_results[0], linestyle='dashed', alpha=0.5)\n",
        "  axes.text(x= -normal_results[0], y=12, s='VaR-Normal', alpha=0.7, color='#334f8d')\n",
        "  axes.axvline(x = -normal_es, linestyle='dashed', alpha=0.5)\n",
        "  axes.text(x= -normal_es, y=11, s='ES-Normal', alpha=0.7, color='#334f8d')\n",
        "\n",
        "  axes.axvline(x = -t_results[0], linestyle='dashed', alpha=0.5, color='r')\n",
        "  axes.text(x= -t_results[0], y=8, s='VaR-T', alpha=0.7, color='r')\n",
        "  axes.axvline(x = -t_es, linestyle='dashed', alpha=0.5, color='r')\n",
        "  axes.text(x= -t_es, y=7, s='ES-T', alpha=0.7, color='r')\n",
        "\n",
        "  sns.histplot(data, binrange = (-.2,.2),binwidth = 0.01,stat='density',ax=axes, label='Historical', color='b', alpha=0.5)\n",
        "\n",
        "  sns.distplot(normal_results[1], ax=axes, hist=False, label='Normal')\n",
        "  sns.distplot(t_results[1], ax=axes, hist=False, label='T')\n",
        "\n",
        "  plt.xlim(-0.3, 0.3)\n",
        "  axes.legend()\n",
        "  return"
      ],
      "metadata": {
        "id": "OVcWdO3fP46B"
      },
      "execution_count": 71,
      "outputs": []
    },
    {
      "cell_type": "code",
      "source": [
        "show_es_results(data, normal_results, normal_es, t_results, t_es)"
      ],
      "metadata": {
        "colab": {
          "base_uri": "https://localhost:8080/",
          "height": 388
        },
        "id": "WtkJpu4df0_C",
        "outputId": "db44eda8-f734-4095-960b-8b8b6b1c56be"
      },
      "execution_count": 72,
      "outputs": [
        {
          "output_type": "stream",
          "name": "stderr",
          "text": [
            "/usr/local/lib/python3.7/dist-packages/seaborn/distributions.py:2619: FutureWarning: `distplot` is a deprecated function and will be removed in a future version. Please adapt your code to use either `displot` (a figure-level function with similar flexibility) or `kdeplot` (an axes-level function for kernel density plots).\n",
            "  warnings.warn(msg, FutureWarning)\n",
            "/usr/local/lib/python3.7/dist-packages/seaborn/distributions.py:2619: FutureWarning: `distplot` is a deprecated function and will be removed in a future version. Please adapt your code to use either `displot` (a figure-level function with similar flexibility) or `kdeplot` (an axes-level function for kernel density plots).\n",
            "  warnings.warn(msg, FutureWarning)\n"
          ]
        },
        {
          "output_type": "display_data",
          "data": {
            "text/plain": [
              "<Figure size 1296x360 with 1 Axes>"
            ],
            "image/png": "[encoded data removed]"
          },
          "metadata": {
            "needs_background": "light"
          }
        }
      ]
    },
    {
      "cell_type": "markdown",
      "source": [
        "# Question2"
      ],
      "metadata": {
        "id": "vQlslY_GgonZ"
      }
    },
    {
      "cell_type": "code",
      "source": [
        "#all refactoring is in the first part"
      ],
      "metadata": {
        "id": "Wn0VUD39gnMP"
      },
      "execution_count": null,
      "outputs": []
    },
    {
      "cell_type": "markdown",
      "source": [
        "# Question3"
      ],
      "metadata": {
        "id": "3HVwUDhUgwmZ"
      }
    },
    {
      "cell_type": "code",
      "source": [
        "#import and modify data\n",
        "portfolio = pd.read_csv(\"portfolio.csv\")\n",
        "portfolio[portfolio[\"Portfolio\"]==\"A\"]\n",
        "total = portfolio.groupby('Stock').sum('Holding')\n",
        "total['Portfolio'] = 'total'\n",
        "total.reset_index(inplace=True)\n",
        "portfolio = portfolio.append(total)\n",
        "\n",
        "prices = pd.read_csv(\"DailyPrices.csv\",index_col=0)\n",
        "return_set = prices.pct_change().dropna()\n",
        "current = pd.DataFrame({\"Price\":prices.iloc[-1]})"
      ],
      "metadata": {
        "id": "RBwviw_tgzPr"
      },
      "execution_count": 84,
      "outputs": []
    },
    {
      "cell_type": "code",
      "source": [],
      "metadata": {
        "id": "IoPvmm-Jqc02"
      },
      "execution_count": null,
      "outputs": []
    },
    {
      "cell_type": "code",
      "source": [
        "def show_portfolio_results(portfolio, prices, return_set, current, sample_size):\n",
        "  title = [\"A\",\"B\",\"C\",\"Total\"]\n",
        "  VaR_simu = []\n",
        "  ES_simu = []\n",
        "  VaR_his = []\n",
        "  ES_his = []\n",
        "  i=0\n",
        "  \n",
        "  fig, axes = plt.subplots(2, 2, figsize=(18, 12))\n",
        "  for port_name, port_data in portfolio.groupby('Portfolio'):\n",
        "    port_data = port_data.set_index('Stock')\n",
        "    port_data = port_data.join(current.loc[port_data.index])\n",
        "    port_data['Value'] = port_data['Holding'] * port_data['Price']\n",
        "\n",
        "    port_value = port_data['Value'].sum()\n",
        "    \n",
        "    \n",
        "    SimuPortfolio_ret = return_set[port_data.index]\n",
        "    ret_MC = copula_t_simulation(SimuPortfolio_ret, sample_size)\n",
        "    \n",
        "    # calculate the profit&loss based on the simulated return\n",
        "    profitLoss=ret_MC*port_data['Value']\n",
        "    Portfolio_Loss = profitLoss.sum(axis=1)\n",
        "    \n",
        "    # calculate the simulated VaR\n",
        "    VaR = simulate_normal(Portfolio_Loss, 5, sample_size)\n",
        "    VaR_simu.append(VaR[0])\n",
        "    \n",
        "    # calculate the simulated ES\n",
        "    ES_p = ES(Portfolio_Loss, 0.05)\n",
        "    ES_simu.append(ES_p)\n",
        "    \n",
        "    # calculate the historical return\n",
        "    his_return=port_data['Value']*return_set[port_data.index]\n",
        "    his_profitloss = his_return.sum(axis=1)\n",
        "    \n",
        "    # calculate the historical VaR\n",
        "    VaR_h = simulate_normal(his_profitloss, 5, sample_size)\n",
        "    VaR_his.append(VaR_h[0])\n",
        "    \n",
        "    # calculate the historical ES\n",
        "    ES_h = ES(his_profitloss, 0.05)\n",
        "    ES_his.append(ES_h)\n",
        "    \n",
        "    # plot distributions\n",
        "    ax = axes[i//2][i%2]\n",
        "    \n",
        "    sns.histplot(his_profitloss, ax=ax, stat='density', label='Historical Return')\n",
        "    sns.distplot(Portfolio_Loss, ax=ax, hist=False, label='Simulated Return',color = 'r')\n",
        "    ax.set_title(f\"Portfolio {title[i]}\")\n",
        "    ax.set_xlabel(\"Portfolio Value\")\n",
        "    ax.legend()\n",
        "    \n",
        "    # plot VaR\n",
        "    ret, ret_density = ax.lines[0].get_data()\n",
        "    #ax.fill_between(ret, ret_density, where=(ret<VaR_h), color='r', alpha=0.5)\n",
        "    ax.axvline(x = -ES_p, linestyle='dashed', alpha=0.5)\n",
        "    ax.text(x=-ES_p, y=0.00004, s='Expected shortfall', fontsize=12,alpha=0.7, color='#334f8d',horizontalalignment='center')\n",
        "    i+=1\n",
        "\n",
        "  \n",
        "  results = round(pd.DataFrame({\"MC VaR\":VaR_simu,\n",
        "             \"MC ES\":ES_simu,\n",
        "             \"Historical VaR\":VaR_his,\n",
        "             \"Historical ES\":ES_his},index =title).T,2)\n",
        "  return results\n",
        "\n"
      ],
      "metadata": {
        "id": "nccV5DK0hx5v"
      },
      "execution_count": 94,
      "outputs": []
    },
    {
      "cell_type": "code",
      "source": [
        "results = show_portfolio_results(portfolio, prices, return_set, current, 1000)"
      ],
      "metadata": {
        "colab": {
          "base_uri": "https://localhost:8080/",
          "height": 1000
        },
        "id": "Oifv5FD7joqg",
        "outputId": "6c9b172d-3351-46bb-be07-f84a253b2e7d"
      },
      "execution_count": 95,
      "outputs": [
        {
          "output_type": "stream",
          "name": "stderr",
          "text": [
            "/usr/local/lib/python3.7/dist-packages/ipykernel_launcher.py:43: SettingWithCopyWarning: \n",
            "A value is trying to be set on a copy of a slice from a DataFrame.\n",
            "Try using .loc[row_indexer,col_indexer] = value instead\n",
            "\n",
            "See the caveats in the documentation: https://pandas.pydata.org/pandas-docs/stable/user_guide/indexing.html#returning-a-view-versus-a-copy\n",
            "/usr/local/lib/python3.7/dist-packages/scipy/stats/_continuous_distns.py:6315: RuntimeWarning: overflow encountered in power\n",
            "  / (np.sqrt(r*np.pi)*(1+(x**2)/r)**((r+1)/2)))\n",
            "/usr/local/lib/python3.7/dist-packages/ipykernel_launcher.py:31: RuntimeWarning: divide by zero encountered in log\n"
          ]
        },
        {
          "output_type": "stream",
          "name": "stdout",
          "text": [
            "Normal distribution VaR: 628260.5%\n",
            "Expected Shortfall: 815796.03%\n",
            "Normal distribution VaR: 592057.15%\n",
            "Expected Shortfall: 762292.8%\n"
          ]
        },
        {
          "output_type": "stream",
          "name": "stderr",
          "text": [
            "/usr/local/lib/python3.7/dist-packages/seaborn/distributions.py:2619: FutureWarning: `distplot` is a deprecated function and will be removed in a future version. Please adapt your code to use either `displot` (a figure-level function with similar flexibility) or `kdeplot` (an axes-level function for kernel density plots).\n",
            "  warnings.warn(msg, FutureWarning)\n",
            "/usr/local/lib/python3.7/dist-packages/ipykernel_launcher.py:43: SettingWithCopyWarning: \n",
            "A value is trying to be set on a copy of a slice from a DataFrame.\n",
            "Try using .loc[row_indexer,col_indexer] = value instead\n",
            "\n",
            "See the caveats in the documentation: https://pandas.pydata.org/pandas-docs/stable/user_guide/indexing.html#returning-a-view-versus-a-copy\n",
            "/usr/local/lib/python3.7/dist-packages/scipy/stats/_distn_infrastructure.py:1870: RuntimeWarning: divide by zero encountered in true_divide\n",
            "  x = np.asarray((x - loc)/scale, dtype=dtyp)\n"
          ]
        },
        {
          "output_type": "stream",
          "name": "stdout",
          "text": [
            "Normal distribution VaR: 466774.98%\n",
            "Expected Shortfall: 592640.62%\n",
            "Normal distribution VaR: 467630.4%\n",
            "Expected Shortfall: 723108.07%\n"
          ]
        },
        {
          "output_type": "stream",
          "name": "stderr",
          "text": [
            "/usr/local/lib/python3.7/dist-packages/seaborn/distributions.py:2619: FutureWarning: `distplot` is a deprecated function and will be removed in a future version. Please adapt your code to use either `displot` (a figure-level function with similar flexibility) or `kdeplot` (an axes-level function for kernel density plots).\n",
            "  warnings.warn(msg, FutureWarning)\n",
            "/usr/local/lib/python3.7/dist-packages/ipykernel_launcher.py:43: SettingWithCopyWarning: \n",
            "A value is trying to be set on a copy of a slice from a DataFrame.\n",
            "Try using .loc[row_indexer,col_indexer] = value instead\n",
            "\n",
            "See the caveats in the documentation: https://pandas.pydata.org/pandas-docs/stable/user_guide/indexing.html#returning-a-view-versus-a-copy\n"
          ]
        },
        {
          "output_type": "stream",
          "name": "stdout",
          "text": [
            "Normal distribution VaR: 339331.24%\n",
            "Expected Shortfall: 494109.84%\n",
            "Normal distribution VaR: 376838.17%\n",
            "Expected Shortfall: 488131.69%\n"
          ]
        },
        {
          "output_type": "stream",
          "name": "stderr",
          "text": [
            "/usr/local/lib/python3.7/dist-packages/seaborn/distributions.py:2619: FutureWarning: `distplot` is a deprecated function and will be removed in a future version. Please adapt your code to use either `displot` (a figure-level function with similar flexibility) or `kdeplot` (an axes-level function for kernel density plots).\n",
            "  warnings.warn(msg, FutureWarning)\n",
            "/usr/local/lib/python3.7/dist-packages/ipykernel_launcher.py:43: SettingWithCopyWarning: \n",
            "A value is trying to be set on a copy of a slice from a DataFrame.\n",
            "Try using .loc[row_indexer,col_indexer] = value instead\n",
            "\n",
            "See the caveats in the documentation: https://pandas.pydata.org/pandas-docs/stable/user_guide/indexing.html#returning-a-view-versus-a-copy\n",
            "/usr/local/lib/python3.7/dist-packages/scipy/stats/_continuous_distns.py:6315: RuntimeWarning: overflow encountered in power\n",
            "  / (np.sqrt(r*np.pi)*(1+(x**2)/r)**((r+1)/2)))\n",
            "/usr/local/lib/python3.7/dist-packages/ipykernel_launcher.py:31: RuntimeWarning: divide by zero encountered in log\n",
            "/usr/local/lib/python3.7/dist-packages/scipy/stats/_distn_infrastructure.py:1870: RuntimeWarning: divide by zero encountered in true_divide\n",
            "  x = np.asarray((x - loc)/scale, dtype=dtyp)\n"
          ]
        },
        {
          "output_type": "stream",
          "name": "stdout",
          "text": [
            "Normal distribution VaR: 1505317.61%\n",
            "Expected Shortfall: 1975965.14%\n",
            "Normal distribution VaR: 1461922.31%\n",
            "Expected Shortfall: 1973532.57%\n"
          ]
        },
        {
          "output_type": "stream",
          "name": "stderr",
          "text": [
            "/usr/local/lib/python3.7/dist-packages/seaborn/distributions.py:2619: FutureWarning: `distplot` is a deprecated function and will be removed in a future version. Please adapt your code to use either `displot` (a figure-level function with similar flexibility) or `kdeplot` (an axes-level function for kernel density plots).\n",
            "  warnings.warn(msg, FutureWarning)\n"
          ]
        },
        {
          "output_type": "display_data",
          "data": {
            "text/plain": [
              "<Figure size 1296x864 with 4 Axes>"
            ],
            "image/png": "[encoded data removed]"
          },
          "metadata": {
            "needs_background": "light"
          }
        }
      ]
    },
    {
      "cell_type": "code",
      "source": [
        "results"
      ],
      "metadata": {
        "colab": {
          "base_uri": "https://localhost:8080/",
          "height": 175
        },
        "id": "MmRyRZcMwAEc",
        "outputId": "e44b737b-405c-49b8-9230-d3a16716001f"
      },
      "execution_count": 96,
      "outputs": [
        {
          "output_type": "execute_result",
          "data": {
            "text/plain": [
              "                      A        B        C     Total\n",
              "MC VaR          6282.60  4667.75  3393.31  15053.18\n",
              "MC ES           8157.96  5926.41  4941.10  19759.65\n",
              "Historical VaR  5920.57  4676.30  3768.38  14619.22\n",
              "Historical ES   7622.93  7231.08  4881.32  19735.33"
            ],
            "text/html": [
              "\n",
              "  <div id=\"df-6ad585cf-a905-401f-9646-ad689c3af1e8\">\n",
              "    <div class=\"colab-df-container\">\n",
              "      <div>\n",
              "<style scoped>\n",
              "    .dataframe tbody tr th:only-of-type {\n",
              "        vertical-align: middle;\n",
              "    }\n",
              "\n",
              "    .dataframe tbody tr th {\n",
              "        vertical-align: top;\n",
              "    }\n",
              "\n",
              "    .dataframe thead th {\n",
              "        text-align: right;\n",
              "    }\n",
              "</style>\n",
              "<table border=\"1\" class=\"dataframe\">\n",
              "  <thead>\n",
              "    <tr style=\"text-align: right;\">\n",
              "      <th></th>\n",
              "      <th>A</th>\n",
              "      <th>B</th>\n",
              "      <th>C</th>\n",
              "      <th>Total</th>\n",
              "    </tr>\n",
              "  </thead>\n",
              "  <tbody>\n",
              "    <tr>\n",
              "      <th>MC VaR</th>\n",
              "      <td>6282.60</td>\n",
              "      <td>4667.75</td>\n",
              "      <td>3393.31</td>\n",
              "      <td>15053.18</td>\n",
              "    </tr>\n",
              "    <tr>\n",
              "      <th>MC ES</th>\n",
              "      <td>8157.96</td>\n",
              "      <td>5926.41</td>\n",
              "      <td>4941.10</td>\n",
              "      <td>19759.65</td>\n",
              "    </tr>\n",
              "    <tr>\n",
              "      <th>Historical VaR</th>\n",
              "      <td>5920.57</td>\n",
              "      <td>4676.30</td>\n",
              "      <td>3768.38</td>\n",
              "      <td>14619.22</td>\n",
              "    </tr>\n",
              "    <tr>\n",
              "      <th>Historical ES</th>\n",
              "      <td>7622.93</td>\n",
              "      <td>7231.08</td>\n",
              "      <td>4881.32</td>\n",
              "      <td>19735.33</td>\n",
              "    </tr>\n",
              "  </tbody>\n",
              "</table>\n",
              "</div>\n",
              "      <button class=\"colab-df-convert\" onclick=\"convertToInteractive('df-6ad585cf-a905-401f-9646-ad689c3af1e8')\"\n",
              "              title=\"Convert this dataframe to an interactive table.\"\n",
              "              style=\"display:none;\">\n",
              "        \n",
              "  <svg xmlns=\"http://www.w3.org/2000/svg\" height=\"24px\"viewBox=\"0 0 24 24\"\n",
              "       width=\"24px\">\n",
              "    <path d=\"M0 0h24v24H0V0z\" fill=\"none\"/>\n",
              "    <path d=\"M18.56 5.44l.94 2.06.94-2.06 2.06-.94-2.06-.94-.94-2.06-.94 2.06-2.06.94zm-11 1L8.5 8.5l.94-2.06 2.06-.94-2.06-.94L8.5 2.5l-.94 2.06-2.06.94zm10 10l.94 2.06.94-2.06 2.06-.94-2.06-.94-.94-2.06-.94 2.06-2.06.94z\"/><path d=\"M17.41 7.96l-1.37-1.37c-.4-.4-.92-.59-1.43-.59-.52 0-1.04.2-1.43.59L10.3 9.45l-7.72 7.72c-.78.78-.78 2.05 0 2.83L4 21.41c.39.39.9.59 1.41.59.51 0 1.02-.2 1.41-.59l7.78-7.78 2.81-2.81c.8-.78.8-2.07 0-2.86zM5.41 20L4 18.59l7.72-7.72 1.47 1.35L5.41 20z\"/>\n",
              "  </svg>\n",
              "      </button>\n",
              "      \n",
              "  <style>\n",
              "    .colab-df-container {\n",
              "      display:flex;\n",
              "      flex-wrap:wrap;\n",
              "      gap: 12px;\n",
              "    }\n",
              "\n",
              "    .colab-df-convert {\n",
              "      background-color: #E8F0FE;\n",
              "      border: none;\n",
              "      border-radius: 50%;\n",
              "      cursor: pointer;\n",
              "      display: none;\n",
              "      fill: #1967D2;\n",
              "      height: 32px;\n",
              "      padding: 0 0 0 0;\n",
              "      width: 32px;\n",
              "    }\n",
              "\n",
              "    .colab-df-convert:hover {\n",
              "      background-color: #E2EBFA;\n",
              "      box-shadow: 0px 1px 2px rgba(60, 64, 67, 0.3), 0px 1px 3px 1px rgba(60, 64, 67, 0.15);\n",
              "      fill: #174EA6;\n",
              "    }\n",
              "\n",
              "    [theme=dark] .colab-df-convert {\n",
              "      background-color: #3B4455;\n",
              "      fill: #D2E3FC;\n",
              "    }\n",
              "\n",
              "    [theme=dark] .colab-df-convert:hover {\n",
              "      background-color: #434B5C;\n",
              "      box-shadow: 0px 1px 3px 1px rgba(0, 0, 0, 0.15);\n",
              "      filter: drop-shadow(0px 1px 2px rgba(0, 0, 0, 0.3));\n",
              "      fill: #FFFFFF;\n",
              "    }\n",
              "  </style>\n",
              "\n",
              "      <script>\n",
              "        const buttonEl =\n",
              "          document.querySelector('#df-6ad585cf-a905-401f-9646-ad689c3af1e8 button.colab-df-convert');\n",
              "        buttonEl.style.display =\n",
              "          google.colab.kernel.accessAllowed ? 'block' : 'none';\n",
              "\n",
              "        async function convertToInteractive(key) {\n",
              "          const element = document.querySelector('#df-6ad585cf-a905-401f-9646-ad689c3af1e8');\n",
              "          const dataTable =\n",
              "            await google.colab.kernel.invokeFunction('convertToInteractive',\n",
              "                                                     [key], {});\n",
              "          if (!dataTable) return;\n",
              "\n",
              "          const docLinkHtml = 'Like what you see? Visit the ' +\n",
              "            '<a target=\"_blank\" href=https://colab.research.google.com/notebooks/data_table.ipynb>data table notebook</a>'\n",
              "            + ' to learn more about interactive tables.';\n",
              "          element.innerHTML = '';\n",
              "          dataTable['output_type'] = 'display_data';\n",
              "          await google.colab.output.renderOutput(dataTable, element);\n",
              "          const docLink = document.createElement('div');\n",
              "          docLink.innerHTML = docLinkHtml;\n",
              "          element.appendChild(docLink);\n",
              "        }\n",
              "      </script>\n",
              "    </div>\n",
              "  </div>\n",
              "  "
            ]
          },
          "metadata": {},
          "execution_count": 96
        }
      ]
    }
  ]
}